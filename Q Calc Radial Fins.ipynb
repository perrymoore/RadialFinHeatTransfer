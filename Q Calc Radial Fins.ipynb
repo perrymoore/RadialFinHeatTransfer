{
 "cells": [
  {
   "cell_type": "code",
   "execution_count": 6,
   "metadata": {},
   "outputs": [
    {
     "name": "stdout",
     "output_type": "stream",
     "text": [
      "What is I1_mr2?: 0.1465296628\n",
      "What is K1_mr2?: 3.175488839\n",
      "What is the r1 multiplier?: 1.5\n",
      "(4.961980961918166, 0.9857301919605004, 9.241220549629691)\n"
     ]
    }
   ],
   "source": [
    "#Q in Bessel's functions\n",
    "import numpy\n",
    "import math\n",
    "\n",
    "#identify constants, Bessels equations calculated using calculator provided in class\n",
    "I0_mr1 = 1.0094311501\n",
    "I1_mr1 = 0.0974570525\n",
    "K0_mr1 = 1.7818303606\n",
    "K1_mr1 = 4.9344496821\n",
    "thick = 2 * pow(10,-3)\n",
    "pi = 3.14\n",
    "h = 30\n",
    "r1 = 0.015\n",
    "thetaB = 95\n",
    "m = pow((500/3),1/2)\n",
    "k = 180\n",
    "\n",
    "#receive input\n",
    "I1_mr2 = float(input(\"What is I1_mr2?: \"))\n",
    "K1_mr2 = float(input(\"What is K1_mr2?: \"))\n",
    "r2 = float(input(\"What is the r1 multiplier?: \"))*r1\n",
    "\n",
    "dTdr = (I1_mr1*K1_mr2 - K1_mr1*I1_mr2)/(I0_mr1*K1_mr2 + I1_mr2*K0_mr1)\n",
    "\n",
    "def q_calc(bessels):\n",
    "    Q = -2 * pi * r1 * thick * k * thetaB * m * bessels\n",
    "    Qmax = h * 2 * pi * (pow(r2,2)-pow(r1,2)) * thetaB\n",
    "    Qnofin = h * 2 * pi * r1 * thick * thetaB\n",
    "    eta = Q/Qmax\n",
    "    eff = Q/Qnofin\n",
    "\n",
    "    return Q,eta,eff\n",
    "\n",
    "print(q_calc(dTdr))"
   ]
  },
  {
   "cell_type": "code",
   "execution_count": null,
   "metadata": {},
   "outputs": [],
   "source": []
  },
  {
   "cell_type": "code",
   "execution_count": null,
   "metadata": {},
   "outputs": [],
   "source": []
  },
  {
   "cell_type": "code",
   "execution_count": null,
   "metadata": {},
   "outputs": [],
   "source": []
  },
  {
   "cell_type": "code",
   "execution_count": null,
   "metadata": {},
   "outputs": [],
   "source": []
  },
  {
   "cell_type": "code",
   "execution_count": null,
   "metadata": {},
   "outputs": [],
   "source": []
  }
 ],
 "metadata": {
  "kernelspec": {
   "display_name": "Python 3",
   "language": "python",
   "name": "python3"
  },
  "language_info": {
   "codemirror_mode": {
    "name": "ipython",
    "version": 3
   },
   "file_extension": ".py",
   "mimetype": "text/x-python",
   "name": "python",
   "nbconvert_exporter": "python",
   "pygments_lexer": "ipython3",
   "version": "3.7.6"
  }
 },
 "nbformat": 4,
 "nbformat_minor": 4
}
